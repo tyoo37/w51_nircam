{
 "cells": [
  {
   "cell_type": "code",
   "execution_count": null,
   "metadata": {},
   "outputs": [],
   "source": [
    "from astropy.io import fits\n",
    "import numpy as np\n",
    "from astropy.visualization import simple_norm\n",
    "import pylab as plt\n",
    "from astropy import wcs\n",
    "import os\n",
    "from reproject import reproject_interp\n",
    "import PIL\n",
    "#import pyavm\n",
    "import shutil"
   ]
  },
  {
   "cell_type": "code",
   "execution_count": null,
   "metadata": {},
   "outputs": [],
   "source": [
    "def save_rgb(img, filename, avm=None, flip=-1):\n",
    "    img = (img*256)\n",
    "    img[img<0] = 0\n",
    "    img[img>255] = 255\n",
    "    img = img.astype('uint8')\n",
    "    img = PIL.Image.fromarray(img[::flip,:,:])\n",
    "    img.save(filename)\n",
    "    if avm is not None:\n",
    "        base = os.path.basename(filename)\n",
    "        dir = os.path.dirname(filename)\n",
    "        avmname = os.path.join(dir, 'avm_'+base)\n",
    "        avm.embed(filename, avmname)\n",
    "        shutil.move(avmname, filename)\n",
    "    return img"
   ]
  },
  {
   "cell_type": "code",
   "execution_count": null,
   "metadata": {},
   "outputs": [],
   "source": [
    "\"\"\"\n",
    "image_filenames_pipe ={\n",
    "    \"f150w\": \"/orange/adamginsburg/jwst/sgrb2/NB/F150W/pipeline/jw06151-o001_t001_nircam_clear-f150w-merged_i2d.fits\",\n",
    "    \"f182m\": \"/orange/adamginsburg/jwst/sgrb2/NB/F182M/pipeline/jw06151-o001_t001_nircam_clear-f182m-merged_i2d.fits\",\n",
    "    \"f187n\": \"/orange/adamginsburg/jwst/sgrb2/NB/F187N/pipeline/jw06151-o001_t001_nircam_clear-f187n-merged_i2d.fits\",\n",
    "    \"f210m\": \"/orange/adamginsburg/jwst/sgrb2/NB/F210M/pipeline/jw06151-o001_t001_nircam_clear-f210m-merged_i2d.fits\",\n",
    "    \"f212n\": \"/orange/adamginsburg/jwst/sgrb2/NB/F212N/pipeline/jw06151-o001_t001_nircam_clear-f212n-merged_i2d.fits\",\n",
    "    \"f300m\": \"/orange/adamginsburg/jwst/sgrb2/NB/F300M/pipeline/jw06151-o001_t001_nircam_clear-f300m-merged_i2d.fits\",\n",
    "    \"f360m\": \"/orange/adamginsburg/jwst/sgrb2/NB/F360M/pipeline/jw06151-o001_t001_nircam_clear-f360m-merged_i2d.fits\",\n",
    "    \"f405n\": \"/orange/adamginsburg/jwst/sgrb2/NB/F405N/pipeline/jw06151-o001_t001_nircam_clear-f405n-merged_i2d.fits\",\n",
    "    \"f410m\": \"/orange/adamginsburg/jwst/sgrb2/NB/F410M/pipeline/jw06151-o001_t001_nircam_clear-f410m-merged_i2d.fits\",\n",
    "    \"f466n\": \"/orange/adamginsburg/jwst/sgrb2/NB/F466N/pipeline/jw06151-o001_t001_nircam_clear-f466n-merged_i2d.fits\", # weird, the filename is different from what is downloaded with the STScI pipeline...\n",
    "    \"f480m\": \"/orange/adamginsburg/jwst/sgrb2/NB/F480M/pipeline/jw06151-o001_t001_nircam_clear-f480m-merged_i2d.fits\",\n",
    "}\n",
    "\n",
    "image_sub_filenames_pipe = {\n",
    "    \"f405n-f410m\": \"/orange/adamginsburg/jwst/sgrb2/NB/F405_minus_F410cont_pipeline_v0.1.fits\",\n",
    "    \"f410m-f405n\": \"/orange/adamginsburg/jwst/sgrb2/NB/F410_minus_F405_fractional_bandwidth_pipeline_v0.1.fits\",\n",
    "    \"f212n-f210m\": \"/orange/adamginsburg/jwst/sgrb2/NB/F212_minus_F210cont_pipeline_v0.1.fits\",\n",
    "    \"f187n-f182m\": \"/orange/adamginsburg/jwst/sgrb2/NB/F187_minus_F182cont_pipeline_v0.1.fits\",\n",
    "\n",
    "}\n",
    "\n",
    "new_basepath = '/orange/adamginsburg/jwst/sgrb2/NB/data_reprojected/'\n",
    "repr466_image_filenames = {x: y.replace(\"i2d\", \"i2d_pipeline_v0.1_reprj_f466\") for x,y in image_filenames_pipe.items()}\n",
    "repr466_image_filenames = {x: (new_basepath+os.path.basename(y)) for x,y in repr466_image_filenames.items()}\n",
    "repr466_image_sub_filenames = {x: y.replace(\"i2d\", \"i2d_reprj_f466\") for x,y in image_sub_filenames_pipe.items()}\n",
    "repr466_image_sub_filenames = {x: (new_basepath+os.path.basename(y)) for x,y in repr466_image_sub_filenames.items()}\n",
    "\"\"\""
   ]
  },
  {
   "cell_type": "code",
   "execution_count": null,
   "metadata": {},
   "outputs": [],
   "source": [
    "\n",
    "#tgt_header = fits.getheader(image_filenames_pipe['f466n'], ext=('SCI', 1))\n",
    "#tgt_header = fits.getheader('/orange/adamginsburg/jwst/sgrb2/mastDownload/JWST/jw06151-o001_t001_nircam_clear-f480m/jw06151-o001_t001_nircam_clear-f480m_i2d.fits', ext=('SCI', 1))\n",
    "#wcs.WCS(tgt_header)\n",
    "#AVM = pyavm.AVM.from_header(tgt_header)"
   ]
  },
  {
   "cell_type": "code",
   "execution_count": null,
   "metadata": {},
   "outputs": [],
   "source": [
    "\"\"\"\n",
    "for filtername in image_sub_filenames_pipe:\n",
    "    if not os.path.exists(repr466_image_sub_filenames[filtername]):\n",
    "        print(f\"Reprojecting {filtername} {image_sub_filenames_pipe[filtername]} to {repr466_image_sub_filenames[filtername]}\")\n",
    "        result,_ = reproject_interp(image_sub_filenames_pipe[filtername], tgt_header, hdu_in='SCI')\n",
    "        hdu = fits.PrimaryHDU(data=result, header=tgt_header)\n",
    "        hdu.writeto(repr466_image_sub_filenames[filtername], overwrite=True)\n",
    "\"\"\""
   ]
  },
  {
   "cell_type": "code",
   "execution_count": null,
   "metadata": {},
   "outputs": [],
   "source": [
    "\"\"\"\n",
    "for filtername in image_filenames_pipe:\n",
    "    if not os.path.exists(repr466_image_filenames[filtername]):\n",
    "        print(f\"Reprojecting {filtername} {image_filenames_pipe[filtername]} to {repr466_image_filenames[filtername]}\")\n",
    "        result,_ = reproject_interp(image_filenames_pipe[filtername], tgt_header, hdu_in='SCI')\n",
    "        hdu = fits.PrimaryHDU(data=result, header=tgt_header)\n",
    "        hdu.writeto(repr466_image_filenames[filtername], overwrite=True)\n",
    "\"\"\""
   ]
  },
  {
   "cell_type": "code",
   "execution_count": null,
   "metadata": {},
   "outputs": [],
   "source": []
  },
  {
   "cell_type": "code",
   "execution_count": null,
   "metadata": {},
   "outputs": [],
   "source": [
    "\"\"\"\n",
    "image_filenames ={\n",
    "    \"f150w\": \"/orange/adamginsburg/jwst/sgrb2/mastDownload/JWST/jw06151-o001_t001_nircam_clear-f150w/jw06151-o001_t001_nircam_clear-f150w_i2d.fits\",\n",
    "    \"f182m\": \"/orange/adamginsburg/jwst/sgrb2/mastDownload/JWST/jw06151-o001_t001_nircam_clear-f182m/jw06151-o001_t001_nircam_clear-f182m_i2d.fits\",\n",
    "    \"f187n\": \"/orange/adamginsburg/jwst/sgrb2/mastDownload/JWST/jw06151-o001_t001_nircam_clear-f187n/jw06151-o001_t001_nircam_clear-f187n_i2d.fits\",\n",
    "    \"f210m\": \"/orange/adamginsburg/jwst/sgrb2/mastDownload/JWST/jw06151-o001_t001_nircam_clear-f210m/jw06151-o001_t001_nircam_clear-f210m_i2d.fits\",\n",
    "    \"f212n\": \"/orange/adamginsburg/jwst/sgrb2/mastDownload/JWST/jw06151-o001_t001_nircam_clear-f212n/jw06151-o001_t001_nircam_clear-f212n_i2d.fits\",\n",
    "    \"f300m\": \"/orange/adamginsburg/jwst/sgrb2/mastDownload/JWST/jw06151-o001_t001_nircam_clear-f300m/jw06151-o001_t001_nircam_clear-f300m_i2d.fits\",\n",
    "    \"f360m\": \"/orange/adamginsburg/jwst/sgrb2/mastDownload/JWST/jw06151-o001_t001_nircam_clear-f360m/jw06151-o001_t001_nircam_clear-f360m_i2d.fits\",\n",
    "    \"f405n\": \"/orange/adamginsburg/jwst/sgrb2/mastDownload/JWST/jw06151-o001_t001_nircam_f405n-f444w/jw06151-o001_t001_nircam_f405n-f444w_i2d.fits\",\n",
    "    \"f410m\": \"/orange/adamginsburg/jwst/sgrb2/mastDownload/JWST/jw06151-o001_t001_nircam_clear-f410m/jw06151-o001_t001_nircam_clear-f410m_i2d.fits\",\n",
    "    \"f466n\": \"/orange/adamginsburg/jwst/sgrb2/mastDownload/JWST/jw06151-o001_t001_nircam_f444w-f466n/jw06151-o001_t001_nircam_f444w-f466n_i2d.fits\",\n",
    "    \"f480m\": \"/orange/adamginsburg/jwst/sgrb2/mastDownload/JWST/jw06151-o001_t001_nircam_clear-f480m/jw06151-o001_t001_nircam_clear-f480m_i2d.fits\",\n",
    "}\n",
    "image_sub_filenames = {\n",
    "    \"f182m-f187n\": \"/orange/adamginsburg/jwst/sgrb2/NB/F182_minus_F187_fractional_bandwidth.fits\",\n",
    "    \"f187n-f182m\": \"/orange/adamginsburg/jwst/sgrb2/NB/F187_minus_F182cont.fits\",\n",
    "    \"f210m-f212n\": \"/orange/adamginsburg/jwst/sgrb2/NB/F210_minus_F212_fractional_bandwidth.fits\",\n",
    "    \"f212n-f210m\": \"/orange/adamginsburg/jwst/sgrb2/NB/F212_minus_F210cont.fits\",\n",
    "    \"f405n-f410m\": \"/orange/adamginsburg/jwst/sgrb2/NB/F405_minus_F410cont.fits\",\n",
    "    \"f410m-f405n\": \"/orange/adamginsburg/jwst/sgrb2/NB/F410_minus_F405_fractional_bandwidth.fits\",\n",
    "    # TODO \"f466n-f410m\": \"/orange/adamginsburg/jwst/sgrb2/NB/F466_minus_F410.fits\",\n",
    "    \"f466n-f405n\": \"/orange/adamginsburg/jwst/sgrb2/NB/F466_minus_F405.fits\",\n",
    "    \"f466n-f480m\": \"/orange/adamginsburg/jwst/sgrb2/NB/F466_minus_F480cont.fits\",\n",
    "    \"f480m-f466n\": \"/orange/adamginsburg/jwst/sgrb2/NB/F480_minus_F466_fractional_bandwidth.fits\",\n",
    "}\n",
    "\"\"\"\n",
    "new_basepath = '/orange/adamginsburg/jwst/sgrb2/NB/data_reprojected/'\n",
    "repr480_image_filenames = {x: y.replace(\"i2d\", \"i2d_reprj_f480\") for x,y in image_filenames.items()}\n",
    "repr480_image_filenames = {x: (new_basepath+os.path.basename(y)) for x,y in repr480_image_filenames.items()}\n",
    "repr480_image_sub_filenames = {x: y.replace(\"i2d\", \"i2d_reprj_f480\") for x,y in image_sub_filenames.items()}\n",
    "repr480_image_sub_filenames = {x: (new_basepath+os.path.basename(y)) for x,y in repr480_image_sub_filenames.items()}\n"
   ]
  },
  {
   "cell_type": "code",
   "execution_count": null,
   "metadata": {},
   "outputs": [],
   "source": [
    "import pyavm"
   ]
  },
  {
   "cell_type": "code",
   "execution_count": null,
   "metadata": {},
   "outputs": [],
   "source": [
    "tgt_header = fits.getheader(image_filenames['f480m'], ext=('SCI', 1))\n",
    "tgt_header = fits.getheader('/orange/adamginsburg/jwst/sgrb2/mastDownload/JWST/jw06151-o001_t001_nircam_clear-f480m/jw06151-o001_t001_nircam_clear-f480m_i2d.fits', ext=('SCI', 1))\n",
    "#wcs.WCS(tgt_header)\n",
    "AVM = pyavm.AVM.from_header(tgt_header)"
   ]
  },
  {
   "cell_type": "code",
   "execution_count": null,
   "metadata": {},
   "outputs": [],
   "source": [
    "for filtername in image_filenames:\n",
    "    if not os.path.exists(repr480_image_filenames[filtername]):\n",
    "        print(f\"Reprojecting {filtername} {image_filenames[filtername]} to {repr480_image_filenames[filtername]}\")\n",
    "        result,_ = reproject.reproject_interp(image_filenames[filtername], tgt_header, hdu_in='SCI')\n",
    "        hdu = fits.PrimaryHDU(data=result, header=tgt_header)\n",
    "        hdu.writeto(repr480_image_filenames[filtername], overwrite=True)"
   ]
  },
  {
   "cell_type": "code",
   "execution_count": null,
   "metadata": {},
   "outputs": [],
   "source": [
    "for filtername in image_sub_filenames:\n",
    "    if not os.path.exists(repr480_image_sub_filenames[filtername]):\n",
    "        print(f\"Reprojecting {filtername} {image_sub_filenames[filtername]} to {repr480_image_sub_filenames[filtername]}\")\n",
    "        result,_ = reproject.reproject_interp(image_sub_filenames[filtername], tgt_header, hdu_in='SCI')\n",
    "        hdu = fits.PrimaryHDU(data=result, header=tgt_header)\n",
    "        hdu.writeto(repr480_image_sub_filenames[filtername], overwrite=True)"
   ]
  },
  {
   "cell_type": "code",
   "execution_count": null,
   "metadata": {},
   "outputs": [],
   "source": [
    "rgb = np.array([\n",
    "    fits.getdata(repr480_image_filenames['f210m']),\n",
    "    fits.getdata(repr480_image_filenames['f300m']),\n",
    "    fits.getdata(repr480_image_filenames['f360m'])\n",
    "]).swapaxes(0,2).swapaxes(0,1)"
   ]
  },
  {
   "cell_type": "code",
   "execution_count": null,
   "metadata": {},
   "outputs": [],
   "source": [
    "rgb_scaled = np.array([simple_norm(rgb[:,:,0], stretch='asinh', min_percent=1, max_percent=99)(rgb[:,:,0]),\n",
    "                       simple_norm(rgb[:,:,1], stretch='asinh', min_percent=1, max_percent=99)(rgb[:,:,1]),\n",
    "                       simple_norm(rgb[:,:,2], stretch='asinh', min_percent=1, max_percent=99)(rgb[:,:,2])]).swapaxes(0,2).swapaxes(0,1)\n",
    "plt.figure(figsize=(24,10))\n",
    "plt.imshow(rgb_scaled, origin='lower')\n",
    "plt.xticks([]);\n",
    "plt.yticks([]);"
   ]
  },
  {
   "cell_type": "code",
   "execution_count": null,
   "metadata": {},
   "outputs": [],
   "source": [
    "# rgb_scaled = np.array([simple_norm(rgb[:,:,0], stretch='asinh', min_percent=1, max_percent=99)(rgb[:,:,0]),\n",
    "#                        simple_norm(rgb[:,:,1], stretch='asinh', min_percent=1, max_percent=99)(rgb[:,:,1]),\n",
    "#                        simple_norm(rgb[:,:,2], stretch='asinh', min_percent=1, max_percent=99)(rgb[:,:,2])]).swapaxes(0,2).swapaxes(0,1)\n",
    "# plt.figure(figsize=(24,10))\n",
    "# plt.imshow(rgb_scaled, origin='lower')\n",
    "# plt.xticks([]);\n",
    "# plt.yticks([]);"
   ]
  },
  {
   "cell_type": "code",
   "execution_count": null,
   "metadata": {},
   "outputs": [],
   "source": [
    "png_path = '/orange/adamginsburg/jwst/sgrb2/pngs'\n",
    "save_rgb(rgb_scaled, f'{png_path}/SgrB2_RGB_210-300-360.png', avm=AVM)"
   ]
  },
  {
   "cell_type": "code",
   "execution_count": null,
   "metadata": {},
   "outputs": [],
   "source": [
    "rgb2 = np.array([\n",
    "    fits.getdata(repr480_image_filenames['f210m']),\n",
    "    fits.getdata(repr480_image_filenames['f300m']),\n",
    "    fits.getdata(repr480_image_filenames['f480m'])\n",
    "]).swapaxes(0,2).swapaxes(0,1)"
   ]
  },
  {
   "cell_type": "code",
   "execution_count": null,
   "metadata": {},
   "outputs": [],
   "source": [
    "rgb_scaled2 = np.array([simple_norm(rgb2[:,:,0], stretch='asinh', min_percent=1, max_percent=99)(rgb2[:,:,0]),\n",
    "                       simple_norm(rgb2[:,:,1], stretch='asinh', min_percent=1, max_percent=99)(rgb2[:,:,1]),\n",
    "                       simple_norm(rgb2[:,:,2], stretch='asinh', min_percent=1, max_percent=99)(rgb2[:,:,2])]).swapaxes(0,2).swapaxes(0,1)\n",
    "plt.figure(figsize=(24,10))\n",
    "plt.imshow(rgb_scaled2, origin='lower')\n",
    "plt.xticks([]);\n",
    "plt.yticks([]);"
   ]
  },
  {
   "cell_type": "code",
   "execution_count": null,
   "metadata": {},
   "outputs": [],
   "source": [
    "rgb_scaled.shape"
   ]
  },
  {
   "cell_type": "code",
   "execution_count": null,
   "metadata": {},
   "outputs": [],
   "source": [
    "# save_rgb(rgb_scaled, f'{png_path}/SgrB2_RGB_210-300-480.png', avm=AVM)"
   ]
  },
  {
   "cell_type": "code",
   "execution_count": null,
   "metadata": {},
   "outputs": [],
   "source": [
    "# rgb3 = np.array([\n",
    "#     fits.getdata(repr480_image_filenames['f480m']),\n",
    "#     fits.getdata(repr480_image_filenames['f300m']),\n",
    "#     fits.getdata(repr480_image_filenames['f210m']),\n",
    "# ]).swapaxes(0,2).swapaxes(0,1)\n",
    "# save_rgb(rgb_scaled, f'{png_path}/SgrB2_RGB_480-300-210.png', avm=AVM)"
   ]
  },
  {
   "cell_type": "code",
   "execution_count": null,
   "metadata": {},
   "outputs": [],
   "source": []
  },
  {
   "cell_type": "code",
   "execution_count": null,
   "metadata": {},
   "outputs": [],
   "source": []
  },
  {
   "cell_type": "code",
   "execution_count": null,
   "metadata": {},
   "outputs": [],
   "source": [
    "F150W = fits.open('/orange/adamginsburg/jwst/sgrb2/mastDownload/JWST/jw06151-o001_t001_nircam_clear-f150w/jw06151-o001_t001_nircam_clear-f150w_i2d.fits')\n",
    "F182M = fits.open('/orange/adamginsburg/jwst/sgrb2/mastDownload/JWST/jw06151-o001_t001_nircam_clear-f182m/jw06151-o001_t001_nircam_clear-f182m_i2d.fits')\n",
    "F187N = fits.open('/orange/adamginsburg/jwst/sgrb2/mastDownload/JWST/jw06151-o001_t001_nircam_clear-f187n/jw06151-o001_t001_nircam_clear-f187n_i2d.fits')\n",
    "F210M = fits.open('/orange/adamginsburg/jwst/sgrb2/mastDownload/JWST/jw06151-o001_t001_nircam_clear-f210m/jw06151-o001_t001_nircam_clear-f210m_i2d.fits')\n",
    "F212N = fits.open('/orange/adamginsburg/jwst/sgrb2/mastDownload/JWST/jw06151-o001_t001_nircam_clear-f212n/jw06151-o001_t001_nircam_clear-f212n_i2d.fits')\n",
    "F300M = fits.open('/orange/adamginsburg/jwst/sgrb2/mastDownload/JWST/jw06151-o001_t001_nircam_clear-f300m/jw06151-o001_t001_nircam_clear-f300m_i2d.fits')\n",
    "F360M = fits.open('/orange/adamginsburg/jwst/sgrb2/mastDownload/JWST/jw06151-o001_t001_nircam_clear-f360m/jw06151-o001_t001_nircam_clear-f360m_i2d.fits')\n",
    "F405N = fits.open('/orange/adamginsburg/jwst/sgrb2/mastDownload/JWST/jw06151-o001_t001_nircam_f405n-f444w/jw06151-o001_t001_nircam_f405n-f444w_i2d.fits')\n",
    "F410M = fits.open('/orange/adamginsburg/jwst/sgrb2/mastDownload/JWST/jw06151-o001_t001_nircam_clear-f410m/jw06151-o001_t001_nircam_clear-f410m_i2d.fits')\n",
    "F466N = fits.open('/orange/adamginsburg/jwst/sgrb2/mastDownload/JWST/jw06151-o001_t001_nircam_f444w-f466n/jw06151-o001_t001_nircam_f444w-f466n_i2d.fits')\n",
    "F480M = fits.open('/orange/adamginsburg/jwst/sgrb2/mastDownload/JWST/jw06151-o001_t001_nircam_clear-f480m/jw06151-o001_t001_nircam_clear-f480m_i2d.fits')"
   ]
  },
  {
   "cell_type": "code",
   "execution_count": null,
   "metadata": {},
   "outputs": [],
   "source": [
    "import reproject"
   ]
  },
  {
   "cell_type": "code",
   "execution_count": null,
   "metadata": {},
   "outputs": [],
   "source": []
  },
  {
   "cell_type": "code",
   "execution_count": null,
   "metadata": {},
   "outputs": [],
   "source": []
  },
  {
   "cell_type": "code",
   "execution_count": null,
   "metadata": {},
   "outputs": [],
   "source": [
    "Bra = fits.open('/orange/adamginsburg/jwst/sgrb2/NB/F405_minus_F410cont.fits')"
   ]
  },
  {
   "cell_type": "code",
   "execution_count": null,
   "metadata": {},
   "outputs": [],
   "source": [
    "Bra['SCI'].data.shape"
   ]
  },
  {
   "cell_type": "code",
   "execution_count": null,
   "metadata": {},
   "outputs": [],
   "source": [
    "F480M['SCI'].data.shape"
   ]
  },
  {
   "cell_type": "code",
   "execution_count": null,
   "metadata": {},
   "outputs": [],
   "source": [
    "F410M['SCI'].data.shape"
   ]
  },
  {
   "cell_type": "code",
   "execution_count": null,
   "metadata": {},
   "outputs": [],
   "source": [
    "F360M['SCI'].data.shape"
   ]
  },
  {
   "cell_type": "code",
   "execution_count": null,
   "metadata": {},
   "outputs": [],
   "source": [
    "F480data = F480M['SCI'].data[:2507,:5649]\n",
    "F410data = F410M['SCI'].data[:2507,:5649]\n",
    "F300data = F300M['SCI'].data[:2507,:5649]\n",
    "Bradata = Bra['SCI'].data[:2507,:5649]\n",
    "F360data = F360M['SCI'].data[:2507,:5649]\n",
    "F466data = F466N['SCI'].data[:2507,:5649]\n",
    "#F405data = F405N['SCI'].data[:2507,:5650]\n"
   ]
  },
  {
   "cell_type": "code",
   "execution_count": null,
   "metadata": {},
   "outputs": [],
   "source": [
    "rgb = np.array([F466data, F410data, F300data]).swapaxes(0,2).swapaxes(0,1)"
   ]
  },
  {
   "cell_type": "code",
   "execution_count": null,
   "metadata": {},
   "outputs": [],
   "source": [
    "# rgb_scaled = np.array([simple_norm(rgb[:,:,0], stretch='asinh', min_percent=1, max_percent=98)(rgb[:,:,0]),\n",
    "#                        simple_norm(rgb[:,:,1], stretch='asinh', min_percent=1, max_percent=99)(rgb[:,:,1]),\n",
    "#                        simple_norm(rgb[:,:,2], stretch='asinh', min_percent=1, max_percent=98)(rgb[:,:,2])]).swapaxes(0,2).swapaxes(0,1)\n",
    "# plt.figure(figsize=(24,10))\n",
    "# plt.imshow(rgb_scaled, origin='lower')\n",
    "# plt.xticks([]);\n",
    "# plt.yticks([]);"
   ]
  },
  {
   "cell_type": "code",
   "execution_count": null,
   "metadata": {},
   "outputs": [],
   "source": [
    "#save_rgb(rgb_scaled, f'{png_path}/SgrB2_RGB_466-410-300.png', avm=AVM)"
   ]
  },
  {
   "cell_type": "code",
   "execution_count": null,
   "metadata": {},
   "outputs": [],
   "source": [
    "rgb = np.array([F480data, F410data, F360data]).swapaxes(0,2).swapaxes(0,1)"
   ]
  },
  {
   "cell_type": "code",
   "execution_count": null,
   "metadata": {},
   "outputs": [],
   "source": []
  },
  {
   "cell_type": "code",
   "execution_count": null,
   "metadata": {},
   "outputs": [],
   "source": [
    "# rgb_scaled = np.array([simple_norm(rgb[:,:,0], stretch='asinh', min_percent=1, max_percent=98.5)(rgb[:,:,0]),\n",
    "#                        simple_norm(rgb[:,:,1], stretch='asinh', min_percent=1, max_percent=99)(rgb[:,:,1]),\n",
    "#                        simple_norm(rgb[:,:,2], stretch='asinh', min_percent=1, max_percent=98.5)(rgb[:,:,2])]).swapaxes(0,2).swapaxes(0,1)\n",
    "# plt.figure(figsize=(12,5))\n",
    "# plt.imshow(rgb_scaled, origin='lower')\n",
    "# plt.xticks([]);\n",
    "# plt.yticks([]);"
   ]
  },
  {
   "cell_type": "code",
   "execution_count": null,
   "metadata": {},
   "outputs": [],
   "source": [
    "save_rgb(rgb_scaled, f'{png_path}/SgrB2_RGB_480-410-360.png', avm=AVM)"
   ]
  },
  {
   "cell_type": "code",
   "execution_count": null,
   "metadata": {},
   "outputs": [],
   "source": [
    "F480data.shape, fits.getdata(repr480_image_filenames['f187n']).shape"
   ]
  },
  {
   "cell_type": "code",
   "execution_count": null,
   "metadata": {},
   "outputs": [],
   "source": [
    "rgb = np.array([fits.getdata(repr480_image_filenames['f480m']),\n",
    "                fits.getdata(repr480_image_filenames['f405n']),\n",
    "                fits.getdata(repr480_image_filenames['f187n'])]).swapaxes(0,2).swapaxes(0,1)\n",
    "save_rgb(rgb/np.nanmedian(rgb), f'{png_path}/SgrB2_RGB_480-405-187.png', avm=AVM)"
   ]
  },
  {
   "cell_type": "code",
   "execution_count": null,
   "metadata": {},
   "outputs": [],
   "source": [
    "rgb = np.array([fits.getdata(repr480_image_filenames['f480m']),\n",
    "                fits.getdata(repr480_image_filenames['f405n']),\n",
    "                fits.getdata(repr480_image_filenames['f187n'])]).swapaxes(0,2).swapaxes(0,1)\n",
    "rgb_scaled = np.array([simple_norm(rgb[:,:,0], stretch='asinh', min_percent=1, max_percent=97)(rgb[:,:,0]),\n",
    "                       simple_norm(rgb[:,:,1], stretch='asinh', min_percent=1, max_percent=99)(rgb[:,:,1]),\n",
    "                       simple_norm(rgb[:,:,2], stretch='asinh', min_percent=1, max_percent=99)(rgb[:,:,2])]).swapaxes(0,2).swapaxes(0,1)\n",
    "save_rgb(rgb_scaled, f'{png_path}/SgrB2_RGB_480-405-187_scaled.png', avm=AVM)"
   ]
  },
  {
   "cell_type": "code",
   "execution_count": null,
   "metadata": {},
   "outputs": [],
   "source": [
    "# list of filters from long to short so it's in RGB order\n",
    "filternames = list(image_filenames.keys())[::-1]\n",
    "for f1, f2, f3 in zip (filternames, filternames[1:], filternames[2:]):\n",
    "    print(f1,f2,f3)\n",
    "    rgb = np.array([\n",
    "        fits.getdata(repr480_image_filenames[f1]),\n",
    "        fits.getdata(repr480_image_filenames[f2]),\n",
    "        fits.getdata(repr480_image_filenames[f3]),\n",
    "    ]).swapaxes(0,2).swapaxes(0,1)\n",
    "    rgb_scaled = np.array([simple_norm(rgb[:,:,0], stretch='asinh', min_percent=1, max_percent=99)(rgb[:,:,0]),\n",
    "                           simple_norm(rgb[:,:,1], stretch='asinh', min_percent=1, max_percent=99)(rgb[:,:,1]),\n",
    "                           simple_norm(rgb[:,:,2], stretch='asinh', min_percent=1, max_percent=99)(rgb[:,:,2])]).swapaxes(0,2).swapaxes(0,1)\n",
    "    \n",
    "    save_rgb(rgb_scaled, f'{png_path}/SgrB2_RGB_{f1[1:4]}-{f2[1:4]}-{f3[1:4]}.png', avm=AVM)"
   ]
  },
  {
   "cell_type": "code",
   "execution_count": null,
   "metadata": {},
   "outputs": [],
   "source": [
    "filternames_sub = list(image_sub_filenames.keys())[::-1]\n",
    "for f1, f2, f3 in zip (filternames_sub, filternames_sub[1:], filternames_sub[2:]):\n",
    "    print(f1,f2,f3)\n",
    "    rgb = np.array([\n",
    "        fits.getdata(repr480_image_sub_filenames[f1]),\n",
    "        fits.getdata(repr480_image_sub_filenames[f2]),\n",
    "        fits.getdata(repr480_image_sub_filenames[f3]),\n",
    "    ]).swapaxes(0,2).swapaxes(0,1)\n",
    "    rgb_scaled = np.array([simple_norm(rgb[:,:,0], stretch='asinh', min_percent=1, max_percent=99)(rgb[:,:,0]),\n",
    "                           simple_norm(rgb[:,:,1], stretch='asinh', min_percent=1, max_percent=99)(rgb[:,:,1]),\n",
    "                           simple_norm(rgb[:,:,2], stretch='asinh', min_percent=1, max_percent=99)(rgb[:,:,2])]).swapaxes(0,2).swapaxes(0,1)\n",
    "    \n",
    "    save_rgb(rgb_scaled, f'{png_path}/SgrB2_RGB_{f1}_{f2}_{f3}.png', avm=AVM)"
   ]
  },
  {
   "cell_type": "code",
   "execution_count": null,
   "metadata": {},
   "outputs": [],
   "source": [
    "rgb.shape, rgb_scaled.shape"
   ]
  },
  {
   "cell_type": "code",
   "execution_count": null,
   "metadata": {},
   "outputs": [],
   "source": [
    "rgb = np.array([fits.getdata(repr480_image_filenames['f480m']),\n",
    "                fits.getdata(repr480_image_sub_filenames['f405n-f410m']),\n",
    "                fits.getdata(repr480_image_sub_filenames['f187n-f182m'])]).swapaxes(0,2).swapaxes(0,1)\n",
    "save_rgb(rgb/np.nanmedian(rgb), f'{png_path}/SgrB2_RGB_480-405m410-187m182.png', avm=AVM)"
   ]
  },
  {
   "cell_type": "code",
   "execution_count": null,
   "metadata": {},
   "outputs": [],
   "source": [
    "rgb = np.array([fits.getdata(repr480_image_filenames['f480m']),\n",
    "                fits.getdata(repr480_image_sub_filenames['f405n-f410m']),\n",
    "                fits.getdata(repr480_image_sub_filenames['f187n-f182m'])]).swapaxes(0,2).swapaxes(0,1)\n",
    "rgb_scaled = np.array([simple_norm(rgb[:,:,0], stretch='asinh', min_percent=1, max_percent=97)(rgb[:,:,0]),\n",
    "                       simple_norm(rgb[:,:,1], stretch='asinh', min_percent=1, max_percent=99)(rgb[:,:,1]),\n",
    "                       simple_norm(rgb[:,:,2], stretch='asinh', min_percent=1, max_percent=99)(rgb[:,:,2])]).swapaxes(0,2).swapaxes(0,1)\n",
    "save_rgb(rgb_scaled, f'{png_path}/SgrB2_RGB_480-405m410-187m182_scaled.png', avm=AVM)"
   ]
  },
  {
   "cell_type": "code",
   "execution_count": null,
   "metadata": {},
   "outputs": [],
   "source": [
    "repr480_image_sub_filenames"
   ]
  }
 ],
 "metadata": {
  "kernelspec": {
   "display_name": "py311",
   "language": "python",
   "name": "python3"
  },
  "language_info": {
   "codemirror_mode": {
    "name": "ipython",
    "version": 3
   },
   "file_extension": ".py",
   "mimetype": "text/x-python",
   "name": "python",
   "nbconvert_exporter": "python",
   "pygments_lexer": "ipython3",
   "version": "3.11.10"
  }
 },
 "nbformat": 4,
 "nbformat_minor": 4
}
