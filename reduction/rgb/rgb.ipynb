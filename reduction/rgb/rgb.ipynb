{
 "cells": [
  {
   "cell_type": "code",
   "execution_count": 1,
   "id": "75a4359e",
   "metadata": {},
   "outputs": [
    {
     "ename": "ModuleNotFoundError",
     "evalue": "No module named 'Paths'",
     "output_type": "error",
     "traceback": [
      "\u001b[0;31m---------------------------------------------------------------------------\u001b[0m",
      "\u001b[0;31mModuleNotFoundError\u001b[0m                       Traceback (most recent call last)",
      "Cell \u001b[0;32mIn[1], line 5\u001b[0m\n\u001b[1;32m      3\u001b[0m \u001b[38;5;28;01mfrom\u001b[39;00m \u001b[38;5;21;01mastropy\u001b[39;00m\u001b[38;5;21;01m.\u001b[39;00m\u001b[38;5;21;01mvisualization\u001b[39;00m \u001b[38;5;28;01mimport\u001b[39;00m make_lupton_rgb\n\u001b[1;32m      4\u001b[0m \u001b[38;5;28;01mfrom\u001b[39;00m \u001b[38;5;21;01mastropy\u001b[39;00m\u001b[38;5;21;01m.\u001b[39;00m\u001b[38;5;21;01mio\u001b[39;00m \u001b[38;5;28;01mimport\u001b[39;00m fits\n\u001b[0;32m----> 5\u001b[0m \u001b[38;5;28;01mimport\u001b[39;00m \u001b[38;5;21;01mPaths\u001b[39;00m\u001b[38;5;21;01m.\u001b[39;00m\u001b[38;5;21;01mPaths\u001b[39;00m \u001b[38;5;28;01mas\u001b[39;00m \u001b[38;5;21;01mpaths\u001b[39;00m\n\u001b[1;32m      6\u001b[0m \u001b[38;5;28;01mfrom\u001b[39;00m \u001b[38;5;21;01mspectral_cube\u001b[39;00m \u001b[38;5;28;01mimport\u001b[39;00m SpectralCube, Projection, Slice\n\u001b[1;32m      7\u001b[0m \u001b[38;5;28;01mfrom\u001b[39;00m \u001b[38;5;21;01mastropy\u001b[39;00m\u001b[38;5;21;01m.\u001b[39;00m\u001b[38;5;21;01mvisualization\u001b[39;00m \u001b[38;5;28;01mimport\u001b[39;00m simple_norm\n",
      "\u001b[0;31mModuleNotFoundError\u001b[0m: No module named 'Paths'"
     ]
    }
   ],
   "source": [
    "import numpy as np\n",
    "import matplotlib.pyplot as plt\n",
    "from astropy.visualization import make_lupton_rgb\n",
    "from astropy.io import fits\n",
    "import Paths.Paths as paths\n",
    "from spectral_cube import SpectralCube, Projection, Slice\n",
    "from astropy.visualization import simple_norm\n",
    "from matplotlib.colors import rgb_to_hsv, hsv_to_rgb\n",
    "import reproject\n",
    "\n",
    "Path = paths.filepaths()\n",
    "\n",
    "def plot_rgb_image(image1, image2, image3, output, save=False):\n",
    "    fig = plt.figure(figsize=(30,50))\n",
    "    rgb_default = make_lupton_rgb(image1, image2, image3, stretch=0.5,Q=8)\n",
    "\n",
    "    plt.imshow(rgb_default, origin='lower')\n",
    "    plt.axis('off')\n",
    "    if save:\n",
    "        plt.savefig(output)\n",
    "    plt.show()\n",
    "\n",
    "downloads = '/orange/adamginsburg/jwst/w51/mastDownload/JWST/'\n",
    "\n",
    "f140m_fits = fits.open(downloads+'jw06151-o001_t003_nircam_clear-f140m/jw06151-o001_t003_nircam_clear-f140m_i2d.fits')\n",
    "f150w2_162m_fits = fits.open(downloads+'jw06151-o001_t003_nircam_clear-f150w2-f162m/jw06151-o001_t003_nircam_clear-f162m_i2d.fits')\n",
    "f182m_fits = fits.open(downloads+'jw06151-o001_t003_nircam_clear-f182m/jw06151-o001_t003_nircam_clear-f182m_i2d.fits')\n",
    "f187n_fits = fits.open(downloads+'jw06151-o001_t003_nircam_clear-f187n/jw06151-o001_t003_nircam_clear-f187n_i2d.fits')\n",
    "f210m_fits = fits.open(downloads+'jw06151-o001_t003_nircam_clear-f210m/jw06151-o001_t003_nircam_clear-f210m_i2d.fits')\n",
    "f335m_fits = fits.open(downloads+'jw06151-o001_t003_nircam_clear-f335m/jw06151-o001_t003_nircam_clear-f335m_i2d.fits')\n",
    "f360m_fits = fits.open(downloads+'jw06151-o001_t003_nircam_clear-f360m/jw06151-o001_t003_nircam_clear-f360m_i2d.fits')\n",
    "f405n_f444w_fits = fits.open(downloads+'jw06151-o001_t003_nircam_clear-f405n-f444w/jw06151-o001_t003_nircam_clear-f405n-f444w_i2d.fits')\n",
    "f410m_fits = fits.open(downloads+'jw06151-o001_t003_nircam_clear-f410m/jw06151-o001_t003_nircam_clear-f410m_i2d.fits')\n",
    "f480m_fits = fits.open(downloads+'jw06151-o001_t003_nircam_clear-f480m/jw06151-o001_t003_nircam_clear-f480m_i2d.fits')\n",
    "\n",
    "f560w_fits = fits.open(Path.w51_F560W)\n",
    "print(f560w_fits.info())\n",
    "f560w_image = f560w_fits[1].data[:,:-1]\n",
    "f770w_fits = fits.open(Path.w51_F770W)\n",
    "f770w_image = f770w_fits[1].data[:,:-1]\n",
    "f1000w_fits = fits.open(Path.w51_F1000W)\n",
    "f1000w_image = f1000w_fits[1].data\n",
    "\n",
    "\n",
    "\"\"\"\n",
    "image_filenames = {\n",
    "\"f560w\": Path.w51_F560W,\n",
    "\"f770w\": Path.w51_F770W,\n",
    "\"f1000w\": Path.w51_F1000W,\n",
    "}\n",
    "\"\"\"\n",
    "\n",
    "\n",
    "\n",
    "repr560_image_filenames = {x: y.replace(\"i2d\", \"i2d_reprj_f560\") if x != 'f560w' else y for x,y in image_filenames.items()}\n",
    "tgt_header = fits.getheader(image_filenames[\"f560w\"], ext=('SCI', 1))\n",
    "\n",
    "\n",
    "for filtername in image_filenames:\n",
    "    print(f\"Reprojecting {filtername} {image_filenames[filtername]} to {repr560_image_filenames[filtername]}\")\n",
    "    result,_ = reproject.reproject_interp(image_filenames[filtername], tgt_header, hdu_in='SCI')\n",
    "    hdu = fits.PrimaryHDU(data=result, header=tgt_header)\n",
    "    hdu.writeto(repr560_image_filenames[filtername], overwrite=True)\n",
    "\n",
    "rgb3 = np.array(\n",
    "      [\n",
    "          fits.getdata(repr560_image_filenames['f1000w']),\n",
    "          fits.getdata(repr560_image_filenames['f770w']),\n",
    "          fits.getdata(repr560_image_filenames['f560w']),\n",
    "      ]\n",
    ").swapaxes(0,2)\n",
    "rgb3.shape"
   ]
  }
 ],
 "metadata": {
  "kernelspec": {
   "display_name": "py311",
   "language": "python",
   "name": "python3"
  },
  "language_info": {
   "codemirror_mode": {
    "name": "ipython",
    "version": 3
   },
   "file_extension": ".py",
   "mimetype": "text/x-python",
   "name": "python",
   "nbconvert_exporter": "python",
   "pygments_lexer": "ipython3",
   "version": "3.11.10"
  }
 },
 "nbformat": 4,
 "nbformat_minor": 5
}
